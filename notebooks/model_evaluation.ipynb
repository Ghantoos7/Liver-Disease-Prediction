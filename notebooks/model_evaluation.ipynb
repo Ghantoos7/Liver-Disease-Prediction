{
 "cells": [
  {
   "cell_type": "code",
   "execution_count": 1,
   "metadata": {},
   "outputs": [],
   "source": [
    "import pandas as pd\n",
    "from sklearn.naive_bayes import GaussianNB\n",
    "from sklearn.neighbors import KNeighborsClassifier\n",
    "from sklearn.linear_model import LogisticRegression\n",
    "from sklearn.model_selection import train_test_split\n",
    "from sklearn.metrics import accuracy_score, precision_score, recall_score, f1_score\n",
    "\n",
    "df = pd.read_csv(\"../data/liver_disease_preprocessed.csv\")\n",
    "x = df.drop(\"Class\", axis = 1)\n",
    "y = df[\"Class\"]\n",
    "\n",
    "x_train, x_test, y_train, y_test = train_test_split(x, y, test_size= 0.20, random_state= 23)"
   ]
  },
  {
   "cell_type": "code",
   "execution_count": 2,
   "metadata": {},
   "outputs": [
    {
     "name": "stdout",
     "output_type": "stream",
     "text": [
      "Logistic Regression model accuracy (in %):  68.51851851851852\n",
      "Precision:  0.7682926829268293\n",
      "Recall:  0.8076923076923077\n",
      "f1 score:  0.7875\n"
     ]
    }
   ],
   "source": [
    "def logisticRegression(x_train_param, x_test_param, y_train_param, y_test_param):\n",
    "    clf = LogisticRegression(max_iter= 5000)\n",
    "    clf.fit(x_train_param, y_train_param)\n",
    "\n",
    "    y_pred = clf.predict(x_test_param)\n",
    "\n",
    "    acc = accuracy_score(y_test_param, y_pred)\n",
    "    precision = precision_score(y_test_param, y_pred)\n",
    "    recall = recall_score(y_test_param, y_pred)\n",
    "    f1 = f1_score(y_test_param, y_pred)\n",
    "    print(\"Logistic Regression model accuracy (in %): \", acc*100)\n",
    "    print(\"Precision: \", precision)\n",
    "    print(\"Recall: \", recall)\n",
    "    print(\"f1 score: \", f1)\n",
    "    return [acc, precision, recall, f1]\n",
    "\n",
    "logisticRegression(x_train, x_test, y_train, y_test)"
   ]
  },
  {
   "cell_type": "code",
   "execution_count": 3,
   "metadata": {},
   "outputs": [
    {
     "name": "stdout",
     "output_type": "stream",
     "text": [
      "Logistic Regression model accuracy (in %):  70.37037037037037\n",
      "Precision:  0.7346938775510204\n",
      "Recall:  0.9230769230769231\n",
      "f1 score:  0.8181818181818182\n"
     ]
    }
   ],
   "source": [
    "def knn_model(x_train_param, x_test_param, y_train_param, y_test_param):\n",
    "    knn = KNeighborsClassifier(n_neighbors=75)\n",
    "\n",
    "    knn.fit(x_train_param, y_train_param)\n",
    "\n",
    "    y_pred= knn.predict(x_test_param)\n",
    "    acc = accuracy_score(y_test_param, y_pred)\n",
    "    precision = precision_score(y_test_param, y_pred)\n",
    "    recall = recall_score(y_test_param, y_pred)\n",
    "    f1 = f1_score(y_test_param, y_pred)\n",
    "    print(\"Logistic Regression model accuracy (in %): \", acc*100)\n",
    "    print(\"Precision: \", precision)\n",
    "    print(\"Recall: \", recall)\n",
    "    print(\"f1 score: \", f1)\n",
    "    return [acc, precision, recall, f1]\n",
    "knn_model(x_train, x_test, y_train, y_test)"
   ]
  },
  {
   "cell_type": "code",
   "execution_count": 4,
   "metadata": {},
   "outputs": [
    {
     "name": "stdout",
     "output_type": "stream",
     "text": [
      "Logistic Regression model accuracy (in %):  50.92592592592593\n",
      "Precision:  1.0\n",
      "Recall:  0.32051282051282054\n",
      "f1 score:  0.4854368932038835\n"
     ]
    }
   ],
   "source": [
    "def naiveBayes(x_train_param, x_test_param, y_train_param, y_test_param):\n",
    "    gnb = GaussianNB()\n",
    "    gnb.fit(x_train_param, y_train_param)\n",
    "\n",
    "    y_pred = gnb.predict(x_test_param)\n",
    "    acc = accuracy_score(y_test_param, y_pred)\n",
    "    precision = precision_score(y_test_param, y_pred)\n",
    "    recall = recall_score(y_test_param, y_pred)\n",
    "    f1 = f1_score(y_test_param, y_pred)\n",
    "    print(\"Logistic Regression model accuracy (in %): \", acc*100)\n",
    "    print(\"Precision: \", precision)\n",
    "    print(\"Recall: \", recall)\n",
    "    print(\"f1 score: \", f1)\n",
    "    return [acc, precision, recall, f1]\n",
    "naiveBayes(x_train, x_test, y_train, y_test)"
   ]
  }
 ],
 "metadata": {
  "kernelspec": {
   "display_name": "Python 3",
   "language": "python",
   "name": "python3"
  },
  "language_info": {
   "codemirror_mode": {
    "name": "ipython",
    "version": 3
   },
   "file_extension": ".py",
   "mimetype": "text/x-python",
   "name": "python",
   "nbconvert_exporter": "python",
   "pygments_lexer": "ipython3",
   "version": "3.12.2"
  }
 },
 "nbformat": 4,
 "nbformat_minor": 2
}
